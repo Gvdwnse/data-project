{
 "cells": [
  {
   "cell_type": "markdown",
   "id": "7ec7fea3-1362-4f55-8efb-d57b107a6187",
   "metadata": {},
   "source": [
    "# Importing the libraries "
   ]
  },
  {
   "cell_type": "code",
   "execution_count": 1,
   "id": "cd84d26f-48f0-463e-a856-86eeba79e975",
   "metadata": {},
   "outputs": [],
   "source": [
    "#We start off with importing the modules and libraries\n",
    "import pandas as pd\n",
    "import matplotlib.pyplot as plt\n",
    "plt.style.use('seaborn-whitegrid')\n",
    "import data_project as dp #importing the python file\n",
    "from pandas_datareader import wb # import WB API\n",
    "import ipywidgets as widgets #to make it interactive\n"
   ]
  },
  {
   "cell_type": "markdown",
   "id": "1ba10c7f-eb0b-4126-89a7-7357da6698f4",
   "metadata": {
    "tags": []
   },
   "source": [
    "# Electricity Production from Renewable Energy (as % of total)"
   ]
  },
  {
   "cell_type": "markdown",
   "id": "31731fec-49f6-45b7-9d1d-795bdabb74c0",
   "metadata": {},
   "source": [
    "## Importing and Data Cleaning"
   ]
  },
  {
   "cell_type": "code",
   "execution_count": 2,
   "id": "91ab85fb-177e-481c-b737-d9d97f8eaaa1",
   "metadata": {},
   "outputs": [
    {
     "name": "stderr",
     "output_type": "stream",
     "text": [
      "/Users/gw/opt/anaconda3/lib/python3.9/site-packages/pandas_datareader/wb.py:592: UserWarning: Non-standard ISO country codes: EUU, NAC, SSA, TLA\n",
      "  warnings.warn(\n"
     ]
    },
    {
     "data": {
      "text/html": [
       "<div>\n",
       "<style scoped>\n",
       "    .dataframe tbody tr th:only-of-type {\n",
       "        vertical-align: middle;\n",
       "    }\n",
       "\n",
       "    .dataframe tbody tr th {\n",
       "        vertical-align: top;\n",
       "    }\n",
       "\n",
       "    .dataframe thead th {\n",
       "        text-align: right;\n",
       "    }\n",
       "</style>\n",
       "<table border=\"1\" class=\"dataframe\">\n",
       "  <thead>\n",
       "    <tr style=\"text-align: right;\">\n",
       "      <th></th>\n",
       "      <th></th>\n",
       "      <th>EG.ELC.RNWX.ZS</th>\n",
       "    </tr>\n",
       "    <tr>\n",
       "      <th>country</th>\n",
       "      <th>year</th>\n",
       "      <th></th>\n",
       "    </tr>\n",
       "  </thead>\n",
       "  <tbody>\n",
       "    <tr>\n",
       "      <th rowspan=\"5\" valign=\"top\">European Union</th>\n",
       "      <th>2015</th>\n",
       "      <td>18.041960</td>\n",
       "    </tr>\n",
       "    <tr>\n",
       "      <th>2014</th>\n",
       "      <td>16.504376</td>\n",
       "    </tr>\n",
       "    <tr>\n",
       "      <th>2013</th>\n",
       "      <td>15.178921</td>\n",
       "    </tr>\n",
       "    <tr>\n",
       "      <th>2012</th>\n",
       "      <td>13.633350</td>\n",
       "    </tr>\n",
       "    <tr>\n",
       "      <th>2011</th>\n",
       "      <td>11.606086</td>\n",
       "    </tr>\n",
       "  </tbody>\n",
       "</table>\n",
       "</div>"
      ],
      "text/plain": [
       "                     EG.ELC.RNWX.ZS\n",
       "country        year                \n",
       "European Union 2015       18.041960\n",
       "               2014       16.504376\n",
       "               2013       15.178921\n",
       "               2012       13.633350\n",
       "               2011       11.606086"
      ]
     },
     "execution_count": 2,
     "metadata": {},
     "output_type": "execute_result"
    }
   ],
   "source": [
    "wb_rnwx = wb.download(indicator='EG.ELC.RNWX.ZS', country=['EUU', 'NAC', 'SSA', 'TLA'], start=1975, end=2015)\n",
    "wb_rnwx.head(5) # display dataframe"
   ]
  },
  {
   "cell_type": "code",
   "execution_count": 3,
   "id": "189c1547-628a-4558-97c8-e0eed63c75a0",
   "metadata": {},
   "outputs": [
    {
     "data": {
      "text/html": [
       "<div>\n",
       "<style scoped>\n",
       "    .dataframe tbody tr th:only-of-type {\n",
       "        vertical-align: middle;\n",
       "    }\n",
       "\n",
       "    .dataframe tbody tr th {\n",
       "        vertical-align: top;\n",
       "    }\n",
       "\n",
       "    .dataframe thead th {\n",
       "        text-align: right;\n",
       "    }\n",
       "</style>\n",
       "<table border=\"1\" class=\"dataframe\">\n",
       "  <thead>\n",
       "    <tr style=\"text-align: right;\">\n",
       "      <th></th>\n",
       "      <th>country</th>\n",
       "      <th>year</th>\n",
       "      <th>elec_prod_from_renewable_energy</th>\n",
       "    </tr>\n",
       "  </thead>\n",
       "  <tbody>\n",
       "    <tr>\n",
       "      <th>40</th>\n",
       "      <td>European Union</td>\n",
       "      <td>1975</td>\n",
       "      <td>0.558944</td>\n",
       "    </tr>\n",
       "    <tr>\n",
       "      <th>39</th>\n",
       "      <td>European Union</td>\n",
       "      <td>1976</td>\n",
       "      <td>0.513907</td>\n",
       "    </tr>\n",
       "    <tr>\n",
       "      <th>38</th>\n",
       "      <td>European Union</td>\n",
       "      <td>1977</td>\n",
       "      <td>0.519714</td>\n",
       "    </tr>\n",
       "    <tr>\n",
       "      <th>37</th>\n",
       "      <td>European Union</td>\n",
       "      <td>1978</td>\n",
       "      <td>0.522394</td>\n",
       "    </tr>\n",
       "    <tr>\n",
       "      <th>36</th>\n",
       "      <td>European Union</td>\n",
       "      <td>1979</td>\n",
       "      <td>0.507560</td>\n",
       "    </tr>\n",
       "  </tbody>\n",
       "</table>\n",
       "</div>"
      ],
      "text/plain": [
       "           country  year  elec_prod_from_renewable_energy\n",
       "40  European Union  1975                         0.558944\n",
       "39  European Union  1976                         0.513907\n",
       "38  European Union  1977                         0.519714\n",
       "37  European Union  1978                         0.522394\n",
       "36  European Union  1979                         0.507560"
      ]
     },
     "execution_count": 3,
     "metadata": {},
     "output_type": "execute_result"
    }
   ],
   "source": [
    "wb_rnwx = wb_rnwx.rename(columns = {'EG.ELC.RNWX.ZS':'elec_prod_from_renewable_energy'})\n",
    "wb_rnwx = dp.data_cleaning1(wb_rnwx) #calling the function from the python file\n",
    "wb_rnwx.head(5) # display dataframe with renamed column heading"
   ]
  },
  {
   "cell_type": "markdown",
   "id": "b7f53ba0-7868-4552-af43-768b6a475996",
   "metadata": {},
   "source": [
    "## Summary statistics"
   ]
  },
  {
   "cell_type": "code",
   "execution_count": 4,
   "id": "3d09d0b8-2bff-4b20-a1a8-233656bfa6eb",
   "metadata": {},
   "outputs": [
    {
     "data": {
      "text/html": [
       "<div>\n",
       "<style scoped>\n",
       "    .dataframe tbody tr th:only-of-type {\n",
       "        vertical-align: middle;\n",
       "    }\n",
       "\n",
       "    .dataframe tbody tr th {\n",
       "        vertical-align: top;\n",
       "    }\n",
       "\n",
       "    .dataframe thead th {\n",
       "        text-align: right;\n",
       "    }\n",
       "</style>\n",
       "<table border=\"1\" class=\"dataframe\">\n",
       "  <thead>\n",
       "    <tr style=\"text-align: right;\">\n",
       "      <th></th>\n",
       "      <th>year</th>\n",
       "      <th>elec_prod_from_renewable_energy</th>\n",
       "    </tr>\n",
       "  </thead>\n",
       "  <tbody>\n",
       "    <tr>\n",
       "      <th>count</th>\n",
       "      <td>164.000000</td>\n",
       "      <td>164.000000</td>\n",
       "    </tr>\n",
       "    <tr>\n",
       "      <th>mean</th>\n",
       "      <td>1995.000000</td>\n",
       "      <td>2.191722</td>\n",
       "    </tr>\n",
       "    <tr>\n",
       "      <th>std</th>\n",
       "      <td>11.868399</td>\n",
       "      <td>2.943473</td>\n",
       "    </tr>\n",
       "    <tr>\n",
       "      <th>min</th>\n",
       "      <td>1975.000000</td>\n",
       "      <td>0.118038</td>\n",
       "    </tr>\n",
       "    <tr>\n",
       "      <th>25%</th>\n",
       "      <td>1985.000000</td>\n",
       "      <td>0.464843</td>\n",
       "    </tr>\n",
       "    <tr>\n",
       "      <th>50%</th>\n",
       "      <td>1995.000000</td>\n",
       "      <td>1.380155</td>\n",
       "    </tr>\n",
       "    <tr>\n",
       "      <th>75%</th>\n",
       "      <td>2005.000000</td>\n",
       "      <td>2.505018</td>\n",
       "    </tr>\n",
       "    <tr>\n",
       "      <th>max</th>\n",
       "      <td>2015.000000</td>\n",
       "      <td>18.041960</td>\n",
       "    </tr>\n",
       "  </tbody>\n",
       "</table>\n",
       "</div>"
      ],
      "text/plain": [
       "              year  elec_prod_from_renewable_energy\n",
       "count   164.000000                       164.000000\n",
       "mean   1995.000000                         2.191722\n",
       "std      11.868399                         2.943473\n",
       "min    1975.000000                         0.118038\n",
       "25%    1985.000000                         0.464843\n",
       "50%    1995.000000                         1.380155\n",
       "75%    2005.000000                         2.505018\n",
       "max    2015.000000                        18.041960"
      ]
     },
     "execution_count": 4,
     "metadata": {},
     "output_type": "execute_result"
    }
   ],
   "source": [
    "wb_rnwx.describe()"
   ]
  },
  {
   "cell_type": "markdown",
   "id": "19a3b624-a355-476d-965e-4a7c0d67b85b",
   "metadata": {},
   "source": [
    "## The Figure for Renewable Energy"
   ]
  },
  {
   "cell_type": "code",
   "execution_count": 5,
   "id": "681d4dc0-c34e-4160-9e69-69c483b6b468",
   "metadata": {},
   "outputs": [
    {
     "data": {
      "application/vnd.jupyter.widget-view+json": {
       "model_id": "f6464ad09d2e4d758f4fb078d0941777",
       "version_major": 2,
       "version_minor": 0
      },
      "text/plain": [
       "interactive(children=(Dropdown(description='Country', options=('European Union', 'Latin America & the Caribbea…"
      ]
     },
     "metadata": {},
     "output_type": "display_data"
    }
   ],
   "source": [
    "widgets.interact(dp.plot_wb1, \n",
    "    wb_rnwx = widgets.fixed(wb_rnwx),\n",
    "    country = widgets.Dropdown(description='Country', \n",
    "                                    options=wb_rnwx.country.unique(), \n",
    "                                    value='European Union')\n",
    "); "
   ]
  },
  {
   "cell_type": "markdown",
   "id": "4d10546d-0278-4ee7-b4c7-fa59a6a5e14b",
   "metadata": {},
   "source": [
    "# Electricity Production from Nuclear Energy (as % of total)"
   ]
  },
  {
   "cell_type": "markdown",
   "id": "eaea217f-0afa-42cd-bb13-4f058abea3f0",
   "metadata": {},
   "source": [
    "## Importing and Data Cleaning"
   ]
  },
  {
   "cell_type": "code",
   "execution_count": 6,
   "id": "511995b5-1ad2-46f6-ab5f-00c00b003fe8",
   "metadata": {},
   "outputs": [
    {
     "name": "stderr",
     "output_type": "stream",
     "text": [
      "/Users/gw/opt/anaconda3/lib/python3.9/site-packages/pandas_datareader/wb.py:592: UserWarning: Non-standard ISO country codes: EUU, NAC, SSA, TLA\n",
      "  warnings.warn(\n"
     ]
    },
    {
     "data": {
      "text/html": [
       "<div>\n",
       "<style scoped>\n",
       "    .dataframe tbody tr th:only-of-type {\n",
       "        vertical-align: middle;\n",
       "    }\n",
       "\n",
       "    .dataframe tbody tr th {\n",
       "        vertical-align: top;\n",
       "    }\n",
       "\n",
       "    .dataframe thead th {\n",
       "        text-align: right;\n",
       "    }\n",
       "</style>\n",
       "<table border=\"1\" class=\"dataframe\">\n",
       "  <thead>\n",
       "    <tr style=\"text-align: right;\">\n",
       "      <th></th>\n",
       "      <th></th>\n",
       "      <th>EG.ELC.NUCL.ZS</th>\n",
       "    </tr>\n",
       "    <tr>\n",
       "      <th>country</th>\n",
       "      <th>year</th>\n",
       "      <th></th>\n",
       "    </tr>\n",
       "  </thead>\n",
       "  <tbody>\n",
       "    <tr>\n",
       "      <th rowspan=\"5\" valign=\"top\">European Union</th>\n",
       "      <th>2015</th>\n",
       "      <td>26.480265</td>\n",
       "    </tr>\n",
       "    <tr>\n",
       "      <th>2014</th>\n",
       "      <td>28.772381</td>\n",
       "    </tr>\n",
       "    <tr>\n",
       "      <th>2013</th>\n",
       "      <td>27.970177</td>\n",
       "    </tr>\n",
       "    <tr>\n",
       "      <th>2012</th>\n",
       "      <td>27.951157</td>\n",
       "    </tr>\n",
       "    <tr>\n",
       "      <th>2011</th>\n",
       "      <td>28.842524</td>\n",
       "    </tr>\n",
       "  </tbody>\n",
       "</table>\n",
       "</div>"
      ],
      "text/plain": [
       "                     EG.ELC.NUCL.ZS\n",
       "country        year                \n",
       "European Union 2015       26.480265\n",
       "               2014       28.772381\n",
       "               2013       27.970177\n",
       "               2012       27.951157\n",
       "               2011       28.842524"
      ]
     },
     "execution_count": 6,
     "metadata": {},
     "output_type": "execute_result"
    }
   ],
   "source": [
    "wb_nucl = wb.download(indicator='EG.ELC.NUCL.ZS', country=['EUU', 'NAC', 'SSA', 'TLA'], start=1975, end=2015) # load data for electricity production from nuclear energy\n",
    "wb_nucl.head(5) # display dataframe"
   ]
  },
  {
   "cell_type": "code",
   "execution_count": 7,
   "id": "89b8d30c-9164-4a54-bee2-05da8e14fa69",
   "metadata": {},
   "outputs": [
    {
     "data": {
      "text/html": [
       "<div>\n",
       "<style scoped>\n",
       "    .dataframe tbody tr th:only-of-type {\n",
       "        vertical-align: middle;\n",
       "    }\n",
       "\n",
       "    .dataframe tbody tr th {\n",
       "        vertical-align: top;\n",
       "    }\n",
       "\n",
       "    .dataframe thead th {\n",
       "        text-align: right;\n",
       "    }\n",
       "</style>\n",
       "<table border=\"1\" class=\"dataframe\">\n",
       "  <thead>\n",
       "    <tr style=\"text-align: right;\">\n",
       "      <th></th>\n",
       "      <th>country</th>\n",
       "      <th>year</th>\n",
       "      <th>elec_prod_from_nuclear_energy</th>\n",
       "    </tr>\n",
       "  </thead>\n",
       "  <tbody>\n",
       "    <tr>\n",
       "      <th>40</th>\n",
       "      <td>European Union</td>\n",
       "      <td>1975</td>\n",
       "      <td>5.654875</td>\n",
       "    </tr>\n",
       "    <tr>\n",
       "      <th>39</th>\n",
       "      <td>European Union</td>\n",
       "      <td>1976</td>\n",
       "      <td>6.064906</td>\n",
       "    </tr>\n",
       "    <tr>\n",
       "      <th>38</th>\n",
       "      <td>European Union</td>\n",
       "      <td>1977</td>\n",
       "      <td>7.241884</td>\n",
       "    </tr>\n",
       "    <tr>\n",
       "      <th>37</th>\n",
       "      <td>European Union</td>\n",
       "      <td>1978</td>\n",
       "      <td>8.233095</td>\n",
       "    </tr>\n",
       "    <tr>\n",
       "      <th>36</th>\n",
       "      <td>European Union</td>\n",
       "      <td>1979</td>\n",
       "      <td>8.863022</td>\n",
       "    </tr>\n",
       "  </tbody>\n",
       "</table>\n",
       "</div>"
      ],
      "text/plain": [
       "           country  year  elec_prod_from_nuclear_energy\n",
       "40  European Union  1975                       5.654875\n",
       "39  European Union  1976                       6.064906\n",
       "38  European Union  1977                       7.241884\n",
       "37  European Union  1978                       8.233095\n",
       "36  European Union  1979                       8.863022"
      ]
     },
     "execution_count": 7,
     "metadata": {},
     "output_type": "execute_result"
    }
   ],
   "source": [
    "#this time the code is for electricity production from nuclear energy\n",
    "wb_nucl = wb_nucl.rename(columns = {'EG.ELC.NUCL.ZS':'elec_prod_from_nuclear_energy'})\n",
    "wb_nucl = dp.data_cleaning2(wb_nucl)\n",
    "wb_nucl.head(5) # display dataframe with renamed column heading"
   ]
  },
  {
   "cell_type": "markdown",
   "id": "b694b458-30f3-4c95-ae6c-891f3ee65860",
   "metadata": {},
   "source": [
    "## Summary Statistics"
   ]
  },
  {
   "cell_type": "code",
   "execution_count": 8,
   "id": "37dad299-9ada-4c3e-8ef2-e81f032fed8d",
   "metadata": {},
   "outputs": [
    {
     "data": {
      "text/html": [
       "<div>\n",
       "<style scoped>\n",
       "    .dataframe tbody tr th:only-of-type {\n",
       "        vertical-align: middle;\n",
       "    }\n",
       "\n",
       "    .dataframe tbody tr th {\n",
       "        vertical-align: top;\n",
       "    }\n",
       "\n",
       "    .dataframe thead th {\n",
       "        text-align: right;\n",
       "    }\n",
       "</style>\n",
       "<table border=\"1\" class=\"dataframe\">\n",
       "  <thead>\n",
       "    <tr style=\"text-align: right;\">\n",
       "      <th></th>\n",
       "      <th>year</th>\n",
       "      <th>elec_prod_from_nuclear_energy</th>\n",
       "    </tr>\n",
       "  </thead>\n",
       "  <tbody>\n",
       "    <tr>\n",
       "      <th>count</th>\n",
       "      <td>164.000000</td>\n",
       "      <td>163.000000</td>\n",
       "    </tr>\n",
       "    <tr>\n",
       "      <th>mean</th>\n",
       "      <td>1995.000000</td>\n",
       "      <td>11.958706</td>\n",
       "    </tr>\n",
       "    <tr>\n",
       "      <th>std</th>\n",
       "      <td>11.868399</td>\n",
       "      <td>11.363315</td>\n",
       "    </tr>\n",
       "    <tr>\n",
       "      <th>min</th>\n",
       "      <td>1975.000000</td>\n",
       "      <td>0.000000</td>\n",
       "    </tr>\n",
       "    <tr>\n",
       "      <th>25%</th>\n",
       "      <td>1985.000000</td>\n",
       "      <td>2.407216</td>\n",
       "    </tr>\n",
       "    <tr>\n",
       "      <th>50%</th>\n",
       "      <td>1995.000000</td>\n",
       "      <td>5.654875</td>\n",
       "    </tr>\n",
       "    <tr>\n",
       "      <th>75%</th>\n",
       "      <td>2005.000000</td>\n",
       "      <td>19.017553</td>\n",
       "    </tr>\n",
       "    <tr>\n",
       "      <th>max</th>\n",
       "      <td>2015.000000</td>\n",
       "      <td>33.812418</td>\n",
       "    </tr>\n",
       "  </tbody>\n",
       "</table>\n",
       "</div>"
      ],
      "text/plain": [
       "              year  elec_prod_from_nuclear_energy\n",
       "count   164.000000                     163.000000\n",
       "mean   1995.000000                      11.958706\n",
       "std      11.868399                      11.363315\n",
       "min    1975.000000                       0.000000\n",
       "25%    1985.000000                       2.407216\n",
       "50%    1995.000000                       5.654875\n",
       "75%    2005.000000                      19.017553\n",
       "max    2015.000000                      33.812418"
      ]
     },
     "execution_count": 8,
     "metadata": {},
     "output_type": "execute_result"
    }
   ],
   "source": [
    "wb_nucl.describe()"
   ]
  },
  {
   "cell_type": "code",
   "execution_count": 9,
   "id": "beab6160-931f-4150-b341-127af01e6501",
   "metadata": {},
   "outputs": [
    {
     "data": {
      "application/vnd.jupyter.widget-view+json": {
       "model_id": "188a124bfe6e40eebe9fb4d38aa6c1a6",
       "version_major": 2,
       "version_minor": 0
      },
      "text/plain": [
       "interactive(children=(Dropdown(description='Country', options=('European Union', 'Latin America & the Caribbea…"
      ]
     },
     "metadata": {},
     "output_type": "display_data"
    }
   ],
   "source": [
    "widgets.interact(dp.plot_wb2, \n",
    "    wb_nucl = widgets.fixed(wb_nucl),\n",
    "    country = widgets.Dropdown(description='Country', \n",
    "                                    options=wb_nucl.country.unique(), \n",
    "                                    value='European Union')\n",
    "); "
   ]
  },
  {
   "cell_type": "markdown",
   "id": "3a9ce07b-7697-4fe1-916f-3a7cd73181c3",
   "metadata": {
    "tags": []
   },
   "source": [
    "## Figure for Fossil Fuels"
   ]
  },
  {
   "cell_type": "code",
   "execution_count": 10,
   "id": "8b7bfcc4-8432-4041-8e3c-3f7c2a18fea0",
   "metadata": {},
   "outputs": [
    {
     "name": "stderr",
     "output_type": "stream",
     "text": [
      "/Users/gw/opt/anaconda3/lib/python3.9/site-packages/pandas_datareader/wb.py:592: UserWarning: Non-standard ISO country codes: EUU, NAC, SSA, TLA\n",
      "  warnings.warn(\n"
     ]
    },
    {
     "data": {
      "text/html": [
       "<div>\n",
       "<style scoped>\n",
       "    .dataframe tbody tr th:only-of-type {\n",
       "        vertical-align: middle;\n",
       "    }\n",
       "\n",
       "    .dataframe tbody tr th {\n",
       "        vertical-align: top;\n",
       "    }\n",
       "\n",
       "    .dataframe thead th {\n",
       "        text-align: right;\n",
       "    }\n",
       "</style>\n",
       "<table border=\"1\" class=\"dataframe\">\n",
       "  <thead>\n",
       "    <tr style=\"text-align: right;\">\n",
       "      <th></th>\n",
       "      <th></th>\n",
       "      <th>EG.ELC.FOSL.ZS</th>\n",
       "    </tr>\n",
       "    <tr>\n",
       "      <th>country</th>\n",
       "      <th>year</th>\n",
       "      <th></th>\n",
       "    </tr>\n",
       "  </thead>\n",
       "  <tbody>\n",
       "    <tr>\n",
       "      <th rowspan=\"5\" valign=\"top\">European Union</th>\n",
       "      <th>2015</th>\n",
       "      <td>41.528918</td>\n",
       "    </tr>\n",
       "    <tr>\n",
       "      <th>2014</th>\n",
       "      <td>40.213665</td>\n",
       "    </tr>\n",
       "    <tr>\n",
       "      <th>2013</th>\n",
       "      <td>42.730355</td>\n",
       "    </tr>\n",
       "    <tr>\n",
       "      <th>2012</th>\n",
       "      <td>45.679239</td>\n",
       "    </tr>\n",
       "    <tr>\n",
       "      <th>2011</th>\n",
       "      <td>47.561879</td>\n",
       "    </tr>\n",
       "  </tbody>\n",
       "</table>\n",
       "</div>"
      ],
      "text/plain": [
       "                     EG.ELC.FOSL.ZS\n",
       "country        year                \n",
       "European Union 2015       41.528918\n",
       "               2014       40.213665\n",
       "               2013       42.730355\n",
       "               2012       45.679239\n",
       "               2011       47.561879"
      ]
     },
     "execution_count": 10,
     "metadata": {},
     "output_type": "execute_result"
    }
   ],
   "source": [
    "wb_fosl = wb.download(indicator='EG.ELC.FOSL.ZS', country=['EUU','NAC','SSA','TLA'], start=1975, end=2015) # load data for elec production from fossil fuels\n",
    "wb_fosl.head(5) # display dataframe"
   ]
  },
  {
   "cell_type": "code",
   "execution_count": 11,
   "id": "af0359ab-2f3e-43c6-a6ed-c456c652e367",
   "metadata": {},
   "outputs": [
    {
     "data": {
      "text/html": [
       "<div>\n",
       "<style scoped>\n",
       "    .dataframe tbody tr th:only-of-type {\n",
       "        vertical-align: middle;\n",
       "    }\n",
       "\n",
       "    .dataframe tbody tr th {\n",
       "        vertical-align: top;\n",
       "    }\n",
       "\n",
       "    .dataframe thead th {\n",
       "        text-align: right;\n",
       "    }\n",
       "</style>\n",
       "<table border=\"1\" class=\"dataframe\">\n",
       "  <thead>\n",
       "    <tr style=\"text-align: right;\">\n",
       "      <th></th>\n",
       "      <th>country</th>\n",
       "      <th>year</th>\n",
       "      <th>elec_prod_from_fossil_fuels</th>\n",
       "    </tr>\n",
       "  </thead>\n",
       "  <tbody>\n",
       "    <tr>\n",
       "      <th>40</th>\n",
       "      <td>European Union</td>\n",
       "      <td>1975</td>\n",
       "      <td>71.327626</td>\n",
       "    </tr>\n",
       "    <tr>\n",
       "      <th>39</th>\n",
       "      <td>European Union</td>\n",
       "      <td>1976</td>\n",
       "      <td>74.799558</td>\n",
       "    </tr>\n",
       "    <tr>\n",
       "      <th>38</th>\n",
       "      <td>European Union</td>\n",
       "      <td>1977</td>\n",
       "      <td>69.205318</td>\n",
       "    </tr>\n",
       "    <tr>\n",
       "      <th>37</th>\n",
       "      <td>European Union</td>\n",
       "      <td>1978</td>\n",
       "      <td>69.726892</td>\n",
       "    </tr>\n",
       "    <tr>\n",
       "      <th>36</th>\n",
       "      <td>European Union</td>\n",
       "      <td>1979</td>\n",
       "      <td>68.970388</td>\n",
       "    </tr>\n",
       "  </tbody>\n",
       "</table>\n",
       "</div>"
      ],
      "text/plain": [
       "           country  year  elec_prod_from_fossil_fuels\n",
       "40  European Union  1975                    71.327626\n",
       "39  European Union  1976                    74.799558\n",
       "38  European Union  1977                    69.205318\n",
       "37  European Union  1978                    69.726892\n",
       "36  European Union  1979                    68.970388"
      ]
     },
     "execution_count": 11,
     "metadata": {},
     "output_type": "execute_result"
    }
   ],
   "source": [
    "# load wb data for energy production from fossil fuels 1975-2015\n",
    "wb_fosl = wb_fosl.rename(columns = {'EG.ELC.FOSL.ZS':'elec_prod_from_fossil_fuels'})\n",
    "wb_fosl = dp.data_cleaning3(wb_fosl)\n",
    "wb_fosl.head(5) # display dataframe with renamed column heading"
   ]
  },
  {
   "cell_type": "code",
   "execution_count": 12,
   "id": "cc8fda0f-09f1-4b00-97c6-1727a2bfe6b7",
   "metadata": {},
   "outputs": [
    {
     "data": {
      "text/html": [
       "<div>\n",
       "<style scoped>\n",
       "    .dataframe tbody tr th:only-of-type {\n",
       "        vertical-align: middle;\n",
       "    }\n",
       "\n",
       "    .dataframe tbody tr th {\n",
       "        vertical-align: top;\n",
       "    }\n",
       "\n",
       "    .dataframe thead th {\n",
       "        text-align: right;\n",
       "    }\n",
       "</style>\n",
       "<table border=\"1\" class=\"dataframe\">\n",
       "  <thead>\n",
       "    <tr style=\"text-align: right;\">\n",
       "      <th></th>\n",
       "      <th>year</th>\n",
       "      <th>elec_prod_from_fossil_fuels</th>\n",
       "    </tr>\n",
       "  </thead>\n",
       "  <tbody>\n",
       "    <tr>\n",
       "      <th>count</th>\n",
       "      <td>164.000000</td>\n",
       "      <td>164.000000</td>\n",
       "    </tr>\n",
       "    <tr>\n",
       "      <th>mean</th>\n",
       "      <td>1995.000000</td>\n",
       "      <td>55.691065</td>\n",
       "    </tr>\n",
       "    <tr>\n",
       "      <th>std</th>\n",
       "      <td>11.868399</td>\n",
       "      <td>13.805352</td>\n",
       "    </tr>\n",
       "    <tr>\n",
       "      <th>min</th>\n",
       "      <td>1975.000000</td>\n",
       "      <td>28.929759</td>\n",
       "    </tr>\n",
       "    <tr>\n",
       "      <th>25%</th>\n",
       "      <td>1985.000000</td>\n",
       "      <td>42.746090</td>\n",
       "    </tr>\n",
       "    <tr>\n",
       "      <th>50%</th>\n",
       "      <td>1995.000000</td>\n",
       "      <td>62.811625</td>\n",
       "    </tr>\n",
       "    <tr>\n",
       "      <th>75%</th>\n",
       "      <td>2005.000000</td>\n",
       "      <td>67.294690</td>\n",
       "    </tr>\n",
       "    <tr>\n",
       "      <th>max</th>\n",
       "      <td>2015.000000</td>\n",
       "      <td>74.799558</td>\n",
       "    </tr>\n",
       "  </tbody>\n",
       "</table>\n",
       "</div>"
      ],
      "text/plain": [
       "              year  elec_prod_from_fossil_fuels\n",
       "count   164.000000                   164.000000\n",
       "mean   1995.000000                    55.691065\n",
       "std      11.868399                    13.805352\n",
       "min    1975.000000                    28.929759\n",
       "25%    1985.000000                    42.746090\n",
       "50%    1995.000000                    62.811625\n",
       "75%    2005.000000                    67.294690\n",
       "max    2015.000000                    74.799558"
      ]
     },
     "execution_count": 12,
     "metadata": {},
     "output_type": "execute_result"
    }
   ],
   "source": [
    "wb_fosl.describe()"
   ]
  },
  {
   "cell_type": "code",
   "execution_count": 13,
   "id": "fe5f3157-4bf1-43a6-b9a7-49b9dfb939b3",
   "metadata": {},
   "outputs": [
    {
     "data": {
      "application/vnd.jupyter.widget-view+json": {
       "model_id": "4834a66c374c4e64b38db34d88ae520f",
       "version_major": 2,
       "version_minor": 0
      },
      "text/plain": [
       "interactive(children=(Dropdown(description='Country', options=('European Union', 'Latin America & the Caribbea…"
      ]
     },
     "metadata": {},
     "output_type": "display_data"
    }
   ],
   "source": [
    "widgets.interact(dp.plot_wb3, \n",
    "    wb_fosl = widgets.fixed(wb_fosl),\n",
    "    country = widgets.Dropdown(description='Country', \n",
    "                                    options=wb_fosl.country.unique(), \n",
    "                                    value='European Union')\n",
    ");"
   ]
  },
  {
   "cell_type": "markdown",
   "id": "8f0711ab-b0b0-42a0-9dee-600f09516bc4",
   "metadata": {},
   "source": [
    "# Figure of fossil fuels compared to renewable energy"
   ]
  },
  {
   "cell_type": "code",
   "execution_count": 14,
   "id": "ddec67cc-c555-4909-9fda-88d78e84d700",
   "metadata": {},
   "outputs": [
    {
     "data": {
      "application/vnd.jupyter.widget-view+json": {
       "model_id": "6cb25441afb54be48afb5cec10c538e0",
       "version_major": 2,
       "version_minor": 0
      },
      "text/plain": [
       "interactive(children=(Dropdown(description='Country', options=('European Union', 'Latin America & the Caribbea…"
      ]
     },
     "metadata": {},
     "output_type": "display_data"
    }
   ],
   "source": [
    "def plot_wb7(wb_rnwx, country): \n",
    "    print(list(wb_rnwx.country.unique()))\n",
    "    y_limits = {'European Union': (0, 30), \n",
    "                'Latin America & the Caribbean (IDA & IBRD countries)': (0, 15),\n",
    "                'North America': (0, 15),\n",
    "                'Sub-Saharan Africa (excluding high income)': (0, 5)}\n",
    "    \n",
    "    fig,ax=plt.subplots(figsize=(8,6))\n",
    "    \n",
    "    wb_eu = wb_rnwx[wb_rnwx['country'] == country]\n",
    "    wb_fosl_eu = wb_fosl[wb_fosl['country'] ==  country]\n",
    "\n",
    "    l = ax.plot(wb_eu.year, wb_eu.elec_prod_from_renewable_energy, color='green', label = 'renewable srcs')\n",
    "    ax.set_xlabel(\"year\",fontsize=14)\n",
    "    ax2=ax.twinx()\n",
    "    l2 = ax2.plot(wb_fosl_eu.year, wb_fosl_eu.elec_prod_from_fossil_fuels, color='red', label = 'fossil fuels')\n",
    "    ax.set_ylabel('% share renewable sources')\n",
    "    ax.set_xlabel('year',fontsize=14)\n",
    "    ax.set_xlim(1975, 2015)\n",
    "    ax.set_ylim(y_limits[country])\n",
    "    ax.set_title('Figrue 7.1: % Energy production from renewable vs fossil sources')\n",
    "    \n",
    "    ax.grid(None)\n",
    "    ax2.grid(None)\n",
    "    lns = l + l2\n",
    "    labels = [l.get_label() for l in lns]\n",
    "\n",
    "    plt.legend(lns, labels, loc = 'upper center', facecolor = 'yellow')\n",
    "    \n",
    "widgets.interact(plot_wb7, \n",
    "    wb_rnwx = widgets.fixed(wb_rnwx),\n",
    "    country = widgets.Dropdown(description='Country', \n",
    "                                    options=wb_rnwx.country.unique(), \n",
    "                                    value='European Union')\n",
    "                 \n",
    ");"
   ]
  },
  {
   "cell_type": "markdown",
   "id": "27173371-88f3-4edb-9415-c85b09647d81",
   "metadata": {},
   "source": [
    "Figure 7.1 demonstrates the overall convergence of energy production from renewable and fossil fuel source (% of total) for the regions since the beginning of recording (1975), with the exception of LAC. While fossil fuels have significantly lost 'market share' to renewable sources, LAC countries have maintained and even increased their relative use of fossil fuels. \n",
    "\n",
    "The EU outperforms all others with a constant decline of fossil fuels from approx 75% in 1975 to 42% in 2015 and a simultaneous and continuous rise in renewables from near 0% to 18% over the same period (max of all regions).\n",
    "\n",
    "LAC countries, while on average, enjoying the lowest % of energy coming from fossil fuels, have surpassed the EU in 2015 and still show a worrying trend towards further relative increases of the sector. Notably, renewables are experiencing a simultaneous momentum, taking 8% of market share in 2015 vs 45% for fossil fuels.\n",
    "\n",
    "Similar to the EU, North America is moving towards less use of fossil fuels, although at a much slower pace historically. The steeper decline of fossil fuels since 2005 indicates that the rate of reduction is increasing i.e. a the change from fossil to renewables is acccelerating and currently stands at 61% of market share. The share of renewables is intensifying upwards, providing roughly 8% of the energy mix in 2015 vs near 0% in the late 1980s. Interestingly and in contrast to the EU, North America has intensified rather than reduced their share of fossil fuel production from 1995 to 2005. \n",
    "\n",
    "Finally, SSA maintains the highest (64%) share of fossil fuels and lowest share of renewables (2.3%) in terms of % of its total energy mix in 2015, in our data set. Energy production from fossil fuels shows an inverted u-shape with fluctuations, which indicates an inconsistent trend over time. Simulatenously, the share of renewables has been historically low, especially in comparison to the other analysed regions. However, we observe that from 2013 to 2015 alone, the share of renewables in SSA has been boosted from below 1% to 2.3%. "
   ]
  },
  {
   "cell_type": "markdown",
   "id": "46c58c5c-a7ed-4fc2-9ea4-b555edb6951e",
   "metadata": {},
   "source": [
    "# Merging of the Datasets to Calculate the %-point Difference in Production"
   ]
  },
  {
   "cell_type": "code",
   "execution_count": 15,
   "id": "1b4a171b-470d-4116-8d7a-e75ebabf853d",
   "metadata": {},
   "outputs": [],
   "source": [
    "#We merge, first for nuclear- and renewable energy\n",
    "wb = pd.merge(wb_nucl, wb_rnwx, on=['country', 'year'], how='left')\n",
    "wb.rename(columns={'elec_prod_from_nuclear_energy':'e'}, inplace=True)\n",
    "wb.rename(columns={'elec_prod_from_renewable_energy':'r'}, inplace=True)"
   ]
  },
  {
   "cell_type": "code",
   "execution_count": 16,
   "id": "860bbc41-5388-4fe0-a34f-9c6d539e1b8b",
   "metadata": {},
   "outputs": [],
   "source": [
    "#Then we merge for renewable energy and fossil fuels\n",
    "wb2 = pd.merge(wb_fosl, wb_rnwx, on=['country', 'year'], how='left')\n",
    "wb2.dropna()\n",
    "wb2.rename(columns={'elec_prod_from_fossil_fuels':'f'}, inplace=True)\n",
    "wb2.rename(columns={'elec_prod_from_renewable_energy':'re'}, inplace=True)"
   ]
  },
  {
   "cell_type": "markdown",
   "id": "1feab715-44fb-4005-a3f3-b22e37b7b6ff",
   "metadata": {},
   "source": [
    "## The Calculation"
   ]
  },
  {
   "cell_type": "code",
   "execution_count": 17,
   "id": "41d9c926-b98e-49de-b185-066e50d151c5",
   "metadata": {},
   "outputs": [],
   "source": [
    "wb['prod_diff'] = wb.e - wb.r #we calculate the difference between the above datasets in percentage-points\n",
    "wb2['prod_diff2'] = wb2.f - wb2.re"
   ]
  },
  {
   "cell_type": "markdown",
   "id": "927e1f75-377e-4a4d-8a02-3ff09ebc4005",
   "metadata": {},
   "source": [
    "## The Interactive Figure Showing the %-point Difference"
   ]
  },
  {
   "cell_type": "code",
   "execution_count": 18,
   "id": "f07efad7",
   "metadata": {},
   "outputs": [
    {
     "data": {
      "application/vnd.jupyter.widget-view+json": {
       "model_id": "cc33e8cf21e3412c8999908918292aed",
       "version_major": 2,
       "version_minor": 0
      },
      "text/plain": [
       "interactive(children=(Dropdown(description='Country', options=('European Union', 'Latin America & the Caribbea…"
      ]
     },
     "metadata": {},
     "output_type": "display_data"
    }
   ],
   "source": [
    "widgets.interact(dp.plot_wb4, \n",
    "    wb = widgets.fixed(wb),\n",
    "    country = widgets.Dropdown(description='Country', \n",
    "                                    options=wb.country.unique(), \n",
    "                                    value='European Union')\n",
    "); "
   ]
  },
  {
   "cell_type": "code",
   "execution_count": 19,
   "id": "108a8a06-ed2e-4c90-9336-7a531d68908b",
   "metadata": {},
   "outputs": [
    {
     "data": {
      "application/vnd.jupyter.widget-view+json": {
       "model_id": "9fff825f133848fea6272890f56fca5f",
       "version_major": 2,
       "version_minor": 0
      },
      "text/plain": [
       "interactive(children=(Dropdown(description='Country', options=('European Union', 'Latin America & the Caribbea…"
      ]
     },
     "metadata": {},
     "output_type": "display_data"
    }
   ],
   "source": [
    "widgets.interact(dp.plot_wb5, \n",
    "    wb2 = widgets.fixed(wb2),\n",
    "    country = widgets.Dropdown(description='Country', \n",
    "                                    options=wb2.country.unique(), \n",
    "                                    value='European Union')\n",
    ");"
   ]
  },
  {
   "cell_type": "markdown",
   "id": "5f7d46d8-730b-4c11-9b2a-9675786b3f5c",
   "metadata": {},
   "source": [
    "In figure 6.1 and 6.2 we see that for the European Union the electricity production from fossil fuels have rapidly declined over the period, while nuclear energy has since 1995 rapidly declined aswell, both compared to renewable energy. For Latin America and the Caribbean we see a rapid increase in renewable energy since 2000 and a rather worrying trend of more electricity coming from fossil fuels since 1995, both compared to renewable energy. For North America in figure 6.1 we see an overall increase in the usage of nuclear energy, however with a declining trend converging to the treshold value, and for fossil fuels we see a promising rapid decline, both compared to renewable energy. For Sub-Saharan Africa we see an overall increase in the usage of nuclear energy, however at a very small scale compared to the other regions, and for fossil fuels we see a yet again promising decline in electricity production coming from fossil fuels down to 62% of total electricity production, again both compared to renewable energy. However these graphs confirms that the switch to renewable energy is not going fast enough, because North America and Sub-Saharan Africa still gets more than half their electricity from fossil fuels and Latin America is seeing an increase, highlighting that the other regions need to take EU as an example and follow in their footsteps."
   ]
  },
  {
   "cell_type": "markdown",
   "id": "cfb35950-9ed7-43b0-984a-a1dea8f7d846",
   "metadata": {},
   "source": [
    "# Electricity Production from Renewable Energy (in kwh)"
   ]
  },
  {
   "cell_type": "markdown",
   "id": "d77931f8-5e82-4399-9b34-a388df1b9a92",
   "metadata": {},
   "source": [
    "## Importing and Data Cleaning"
   ]
  },
  {
   "cell_type": "code",
   "execution_count": 20,
   "id": "58eb347f-07f0-4262-8d0e-48053f382c91",
   "metadata": {},
   "outputs": [
    {
     "name": "stderr",
     "output_type": "stream",
     "text": [
      "/Users/gw/opt/anaconda3/lib/python3.9/site-packages/pandas_datareader/wb.py:592: UserWarning: Non-standard ISO country codes: EUU, NAC, SSA, TLA\n",
      "  warnings.warn(\n"
     ]
    },
    {
     "data": {
      "text/html": [
       "<div>\n",
       "<style scoped>\n",
       "    .dataframe tbody tr th:only-of-type {\n",
       "        vertical-align: middle;\n",
       "    }\n",
       "\n",
       "    .dataframe tbody tr th {\n",
       "        vertical-align: top;\n",
       "    }\n",
       "\n",
       "    .dataframe thead th {\n",
       "        text-align: right;\n",
       "    }\n",
       "</style>\n",
       "<table border=\"1\" class=\"dataframe\">\n",
       "  <thead>\n",
       "    <tr style=\"text-align: right;\">\n",
       "      <th></th>\n",
       "      <th></th>\n",
       "      <th>EG.ELC.RNWX.KH</th>\n",
       "    </tr>\n",
       "    <tr>\n",
       "      <th>country</th>\n",
       "      <th>year</th>\n",
       "      <th></th>\n",
       "    </tr>\n",
       "  </thead>\n",
       "  <tbody>\n",
       "    <tr>\n",
       "      <th rowspan=\"5\" valign=\"top\">European Union</th>\n",
       "      <th>2015</th>\n",
       "      <td>517425000000</td>\n",
       "    </tr>\n",
       "    <tr>\n",
       "      <th>2014</th>\n",
       "      <td>466091000000</td>\n",
       "    </tr>\n",
       "    <tr>\n",
       "      <th>2013</th>\n",
       "      <td>437523000000</td>\n",
       "    </tr>\n",
       "    <tr>\n",
       "      <th>2012</th>\n",
       "      <td>396039000000</td>\n",
       "    </tr>\n",
       "    <tr>\n",
       "      <th>2011</th>\n",
       "      <td>337112000000</td>\n",
       "    </tr>\n",
       "  </tbody>\n",
       "</table>\n",
       "</div>"
      ],
      "text/plain": [
       "                     EG.ELC.RNWX.KH\n",
       "country        year                \n",
       "European Union 2015    517425000000\n",
       "               2014    466091000000\n",
       "               2013    437523000000\n",
       "               2012    396039000000\n",
       "               2011    337112000000"
      ]
     },
     "execution_count": 20,
     "metadata": {},
     "output_type": "execute_result"
    }
   ],
   "source": [
    "from pandas_datareader import wb\n",
    "wb_rnwx_kwh = wb.download(indicator='EG.ELC.RNWX.KH', country=['EUU', 'NAC', 'SSA', 'TLA'], start=1975, end=2015) # import data for renewable energy in kwh\n",
    "wb_rnwx_kwh.head(5) # display dataframe"
   ]
  },
  {
   "cell_type": "code",
   "execution_count": 21,
   "id": "c99a16d9-f80a-4b58-a40c-e4ae56c12ddb",
   "metadata": {},
   "outputs": [
    {
     "data": {
      "text/html": [
       "<div>\n",
       "<style scoped>\n",
       "    .dataframe tbody tr th:only-of-type {\n",
       "        vertical-align: middle;\n",
       "    }\n",
       "\n",
       "    .dataframe tbody tr th {\n",
       "        vertical-align: top;\n",
       "    }\n",
       "\n",
       "    .dataframe thead th {\n",
       "        text-align: right;\n",
       "    }\n",
       "</style>\n",
       "<table border=\"1\" class=\"dataframe\">\n",
       "  <thead>\n",
       "    <tr style=\"text-align: right;\">\n",
       "      <th></th>\n",
       "      <th>country</th>\n",
       "      <th>year</th>\n",
       "      <th>e_in_kwh</th>\n",
       "      <th>e_in_kwh_thousand</th>\n",
       "    </tr>\n",
       "  </thead>\n",
       "  <tbody>\n",
       "    <tr>\n",
       "      <th>40</th>\n",
       "      <td>European Union</td>\n",
       "      <td>1975</td>\n",
       "      <td>7765000000</td>\n",
       "      <td>7765.0</td>\n",
       "    </tr>\n",
       "    <tr>\n",
       "      <th>39</th>\n",
       "      <td>European Union</td>\n",
       "      <td>1976</td>\n",
       "      <td>7796000000</td>\n",
       "      <td>7796.0</td>\n",
       "    </tr>\n",
       "    <tr>\n",
       "      <th>38</th>\n",
       "      <td>European Union</td>\n",
       "      <td>1977</td>\n",
       "      <td>8136000000</td>\n",
       "      <td>8136.0</td>\n",
       "    </tr>\n",
       "    <tr>\n",
       "      <th>37</th>\n",
       "      <td>European Union</td>\n",
       "      <td>1978</td>\n",
       "      <td>8628000000</td>\n",
       "      <td>8628.0</td>\n",
       "    </tr>\n",
       "    <tr>\n",
       "      <th>36</th>\n",
       "      <td>European Union</td>\n",
       "      <td>1979</td>\n",
       "      <td>8725000000</td>\n",
       "      <td>8725.0</td>\n",
       "    </tr>\n",
       "  </tbody>\n",
       "</table>\n",
       "</div>"
      ],
      "text/plain": [
       "           country  year    e_in_kwh  e_in_kwh_thousand\n",
       "40  European Union  1975  7765000000             7765.0\n",
       "39  European Union  1976  7796000000             7796.0\n",
       "38  European Union  1977  8136000000             8136.0\n",
       "37  European Union  1978  8628000000             8628.0\n",
       "36  European Union  1979  8725000000             8725.0"
      ]
     },
     "execution_count": 21,
     "metadata": {},
     "output_type": "execute_result"
    }
   ],
   "source": [
    "#here the dataset is elecetricity production from renewable energy, but this time in kwh\n",
    "wb_rnwx_kwh.rename(columns={'EG.ELC.RNWX.KH':'e_in_kwh'}, inplace=True) #just for shorter code\n",
    "wb_rnwx_kwh = wb_rnwx_kwh = dp.data_cleaning4(wb_rnwx_kwh)\n",
    "wb_rnwx_kwh.head(5) # display dataframe"
   ]
  },
  {
   "cell_type": "markdown",
   "id": "0ba72483-f7a9-48c7-9c96-a411c81177d9",
   "metadata": {},
   "source": [
    "## The Figures"
   ]
  },
  {
   "cell_type": "markdown",
   "id": "2ac7d018-abec-4063-ac30-3d99c8d7ec04",
   "metadata": {},
   "source": [
    "### Electricity Production from Renewable Energy (in kwh)"
   ]
  },
  {
   "cell_type": "code",
   "execution_count": 34,
   "id": "65150654-8957-4075-94f7-cc31c89f12a1",
   "metadata": {},
   "outputs": [],
   "source": [
    "#now we to the split-apply-combine on the above datasets\n",
    "wb_rnwx_kwh_ = wb_rnwx_kwh.copy() #make a copy, just in case.\n",
    "\n",
    "wb_rnwx_kwh_mean = wb_rnwx_kwh_.groupby('country')['e_in_kwh_thousand'].agg('mean') # spliting and apllying in one swoop\n",
    "\n",
    "wb_rnwx_kwh_mean.name = 'wb_rnwx_kwh_mean' #renaming for simpler code\n",
    "wb_rnwx_kwh_ = wb_rnwx_kwh_.set_index('country').join(wb_rnwx_kwh_mean, how='left') # combining\n",
    "wb_rnwx_kwh_['demean'] = wb_rnwx_kwh_.e_in_kwh_thousand - wb_rnwx_kwh_.wb_rnwx_kwh_mean #we calculate the demean"
   ]
  },
  {
   "cell_type": "code",
   "execution_count": 36,
   "id": "817e957d-b1c2-4bee-94c4-92bea3745c93",
   "metadata": {},
   "outputs": [
    {
     "data": {
      "text/html": [
       "<div>\n",
       "<style scoped>\n",
       "    .dataframe tbody tr th:only-of-type {\n",
       "        vertical-align: middle;\n",
       "    }\n",
       "\n",
       "    .dataframe tbody tr th {\n",
       "        vertical-align: top;\n",
       "    }\n",
       "\n",
       "    .dataframe thead th {\n",
       "        text-align: right;\n",
       "    }\n",
       "</style>\n",
       "<table border=\"1\" class=\"dataframe\">\n",
       "  <thead>\n",
       "    <tr style=\"text-align: right;\">\n",
       "      <th></th>\n",
       "      <th>year</th>\n",
       "      <th>e_in_kwh</th>\n",
       "      <th>e_in_kwh_thousand</th>\n",
       "      <th>wb_rnwx_kwh_mean</th>\n",
       "      <th>demean</th>\n",
       "      <th>absolute change</th>\n",
       "    </tr>\n",
       "    <tr>\n",
       "      <th>country</th>\n",
       "      <th></th>\n",
       "      <th></th>\n",
       "      <th></th>\n",
       "      <th></th>\n",
       "      <th></th>\n",
       "      <th></th>\n",
       "    </tr>\n",
       "  </thead>\n",
       "  <tbody>\n",
       "    <tr>\n",
       "      <th>European Union</th>\n",
       "      <td>1975</td>\n",
       "      <td>7765000000</td>\n",
       "      <td>7765.0</td>\n",
       "      <td>102836.707317</td>\n",
       "      <td>-95071.707317</td>\n",
       "      <td>NaN</td>\n",
       "    </tr>\n",
       "    <tr>\n",
       "      <th>European Union</th>\n",
       "      <td>1976</td>\n",
       "      <td>7796000000</td>\n",
       "      <td>7796.0</td>\n",
       "      <td>102836.707317</td>\n",
       "      <td>-95040.707317</td>\n",
       "      <td>31.0</td>\n",
       "    </tr>\n",
       "    <tr>\n",
       "      <th>European Union</th>\n",
       "      <td>1977</td>\n",
       "      <td>8136000000</td>\n",
       "      <td>8136.0</td>\n",
       "      <td>102836.707317</td>\n",
       "      <td>-94700.707317</td>\n",
       "      <td>340.0</td>\n",
       "    </tr>\n",
       "    <tr>\n",
       "      <th>European Union</th>\n",
       "      <td>1978</td>\n",
       "      <td>8628000000</td>\n",
       "      <td>8628.0</td>\n",
       "      <td>102836.707317</td>\n",
       "      <td>-94208.707317</td>\n",
       "      <td>492.0</td>\n",
       "    </tr>\n",
       "    <tr>\n",
       "      <th>European Union</th>\n",
       "      <td>1979</td>\n",
       "      <td>8725000000</td>\n",
       "      <td>8725.0</td>\n",
       "      <td>102836.707317</td>\n",
       "      <td>-94111.707317</td>\n",
       "      <td>97.0</td>\n",
       "    </tr>\n",
       "    <tr>\n",
       "      <th>...</th>\n",
       "      <td>...</td>\n",
       "      <td>...</td>\n",
       "      <td>...</td>\n",
       "      <td>...</td>\n",
       "      <td>...</td>\n",
       "      <td>...</td>\n",
       "    </tr>\n",
       "    <tr>\n",
       "      <th>Sub-Saharan Africa (excluding high income)</th>\n",
       "      <td>2011</td>\n",
       "      <td>2981000000</td>\n",
       "      <td>2981.0</td>\n",
       "      <td>1595.146341</td>\n",
       "      <td>1385.853659</td>\n",
       "      <td>67.0</td>\n",
       "    </tr>\n",
       "    <tr>\n",
       "      <th>Sub-Saharan Africa (excluding high income)</th>\n",
       "      <td>2012</td>\n",
       "      <td>3254000000</td>\n",
       "      <td>3254.0</td>\n",
       "      <td>1595.146341</td>\n",
       "      <td>1658.853659</td>\n",
       "      <td>273.0</td>\n",
       "    </tr>\n",
       "    <tr>\n",
       "      <th>Sub-Saharan Africa (excluding high income)</th>\n",
       "      <td>2013</td>\n",
       "      <td>3891000000</td>\n",
       "      <td>3891.0</td>\n",
       "      <td>1595.146341</td>\n",
       "      <td>2295.853659</td>\n",
       "      <td>637.0</td>\n",
       "    </tr>\n",
       "    <tr>\n",
       "      <th>Sub-Saharan Africa (excluding high income)</th>\n",
       "      <td>2014</td>\n",
       "      <td>7920000000</td>\n",
       "      <td>7920.0</td>\n",
       "      <td>1595.146341</td>\n",
       "      <td>6324.853659</td>\n",
       "      <td>4029.0</td>\n",
       "    </tr>\n",
       "    <tr>\n",
       "      <th>Sub-Saharan Africa (excluding high income)</th>\n",
       "      <td>2015</td>\n",
       "      <td>11206000000</td>\n",
       "      <td>11206.0</td>\n",
       "      <td>1595.146341</td>\n",
       "      <td>9610.853659</td>\n",
       "      <td>3286.0</td>\n",
       "    </tr>\n",
       "  </tbody>\n",
       "</table>\n",
       "<p>164 rows × 6 columns</p>\n",
       "</div>"
      ],
      "text/plain": [
       "                                            year     e_in_kwh  \\\n",
       "country                                                         \n",
       "European Union                              1975   7765000000   \n",
       "European Union                              1976   7796000000   \n",
       "European Union                              1977   8136000000   \n",
       "European Union                              1978   8628000000   \n",
       "European Union                              1979   8725000000   \n",
       "...                                          ...          ...   \n",
       "Sub-Saharan Africa (excluding high income)  2011   2981000000   \n",
       "Sub-Saharan Africa (excluding high income)  2012   3254000000   \n",
       "Sub-Saharan Africa (excluding high income)  2013   3891000000   \n",
       "Sub-Saharan Africa (excluding high income)  2014   7920000000   \n",
       "Sub-Saharan Africa (excluding high income)  2015  11206000000   \n",
       "\n",
       "                                            e_in_kwh_thousand  \\\n",
       "country                                                         \n",
       "European Union                                         7765.0   \n",
       "European Union                                         7796.0   \n",
       "European Union                                         8136.0   \n",
       "European Union                                         8628.0   \n",
       "European Union                                         8725.0   \n",
       "...                                                       ...   \n",
       "Sub-Saharan Africa (excluding high income)             2981.0   \n",
       "Sub-Saharan Africa (excluding high income)             3254.0   \n",
       "Sub-Saharan Africa (excluding high income)             3891.0   \n",
       "Sub-Saharan Africa (excluding high income)             7920.0   \n",
       "Sub-Saharan Africa (excluding high income)            11206.0   \n",
       "\n",
       "                                            wb_rnwx_kwh_mean        demean  \\\n",
       "country                                                                      \n",
       "European Union                                 102836.707317 -95071.707317   \n",
       "European Union                                 102836.707317 -95040.707317   \n",
       "European Union                                 102836.707317 -94700.707317   \n",
       "European Union                                 102836.707317 -94208.707317   \n",
       "European Union                                 102836.707317 -94111.707317   \n",
       "...                                                      ...           ...   \n",
       "Sub-Saharan Africa (excluding high income)       1595.146341   1385.853659   \n",
       "Sub-Saharan Africa (excluding high income)       1595.146341   1658.853659   \n",
       "Sub-Saharan Africa (excluding high income)       1595.146341   2295.853659   \n",
       "Sub-Saharan Africa (excluding high income)       1595.146341   6324.853659   \n",
       "Sub-Saharan Africa (excluding high income)       1595.146341   9610.853659   \n",
       "\n",
       "                                            absolute change  \n",
       "country                                                      \n",
       "European Union                                          NaN  \n",
       "European Union                                         31.0  \n",
       "European Union                                        340.0  \n",
       "European Union                                        492.0  \n",
       "European Union                                         97.0  \n",
       "...                                                     ...  \n",
       "Sub-Saharan Africa (excluding high income)             67.0  \n",
       "Sub-Saharan Africa (excluding high income)            273.0  \n",
       "Sub-Saharan Africa (excluding high income)            637.0  \n",
       "Sub-Saharan Africa (excluding high income)           4029.0  \n",
       "Sub-Saharan Africa (excluding high income)           3286.0  \n",
       "\n",
       "[164 rows x 6 columns]"
      ]
     },
     "execution_count": 36,
     "metadata": {},
     "output_type": "execute_result"
    }
   ],
   "source": [
    "avg_first_diff = lambda x: x.diff(1)\n",
    "wb_rnwx_kwh_abs_change = wb_rnwx_kwh_.groupby('country')['e_in_kwh_thousand'].apply(avg_first_diff)\n",
    "wb_rnwx_kwh_['absolute change'] = wb_rnwx_kwh_abs_change\n",
    "wb_rnwx_kwh_"
   ]
  },
  {
   "cell_type": "code",
   "execution_count": 37,
   "id": "33bd1cf1-82c3-4208-ad6c-c8ca4a3e32ac",
   "metadata": {},
   "outputs": [
    {
     "data": {
      "text/plain": [
       "Text(0.5, 1.0, 'Figure: 7.3.1: Electricity Production from Renewable Energy (in absolute change)')"
      ]
     },
     "execution_count": 37,
     "metadata": {},
     "output_type": "execute_result"
    },
    {
     "data": {
      "image/png": "[encoded data removed]",
      "text/plain": [
       "<Figure size 576x432 with 1 Axes>"
      ]
     },
     "metadata": {},
     "output_type": "display_data"
    }
   ],
   "source": [
    "#we plot the figures from above, but this time not interactively\n",
    "regions = ['European Union',\n",
    "           'North America',\n",
    "           'Latin America & the Caribbean (IDA & IBRD countries)',\n",
    "           'Sub-Saharan Africa (excluding high income)']\n",
    "\n",
    "fig = plt.figure(figsize=(8,6))\n",
    "ax = fig.add_subplot(1,1,1)\n",
    "\n",
    "# Here we use the fact that the index has multiple levels (years) for an elegant loop\n",
    "for i in regions:\n",
    "    wb_rnwx_kwh_.xs(i).plot(x='year',y='absolute change',ax=ax,label=i)\n",
    "\n",
    "ax.legend(frameon=True)\n",
    "ax.set_ylabel('kwh (thousand)')\n",
    "ax.set_xlim(1975, 2015) #removes the space between the border and 2015/1975\n",
    "ax.set_title('Figure: 7.3.1:'' ''Electricity Production from Renewable Energy (in absolute change)')"
   ]
  },
  {
   "cell_type": "markdown",
   "id": "5eacb6a8-2579-484a-abb6-6aa6e2397aca",
   "metadata": {},
   "source": [
    "### Difference in Electricity Production from Renewable Energy from the Mean Electricity Production"
   ]
  },
  {
   "cell_type": "code",
   "execution_count": 38,
   "id": "73330ed1-1cad-44ce-b455-ea6be2fb269e",
   "metadata": {},
   "outputs": [
    {
     "data": {
      "text/plain": [
       "Text(0.5, 1.0, 'Figure 7.3.2: Difference in Production from the Mean Value')"
      ]
     },
     "execution_count": 38,
     "metadata": {},
     "output_type": "execute_result"
    },
    {
     "data": {
      "image/png": "[encoded data removed]",
      "text/plain": [
       "<Figure size 576x432 with 1 Axes>"
      ]
     },
     "metadata": {},
     "output_type": "display_data"
    }
   ],
   "source": [
    "regions = ['European Union',\n",
    "           'North America',\n",
    "           'Latin America & the Caribbean (IDA & IBRD countries)',\n",
    "           'Sub-Saharan Africa (excluding high income)']\n",
    "\n",
    "fig = plt.figure(figsize=(8,6))\n",
    "ax = fig.add_subplot(1,1,1)\n",
    "\n",
    "# Here we use the fact that the index has multiple levels (years) for an elegant loop\n",
    "for i in regions:\n",
    "    wb_rnwx_kwh_.xs(i).plot(x='year',y='demean',ax=ax,label=i)\n",
    "\n",
    "ax.legend(frameon=True)\n",
    "ax.set_ylabel('differrence to mean (thousands)')\n",
    "ax.set_xlim(1975, 2015)\n",
    "ax.set_title('Figure 7.3.2:' ' ' 'Difference in Production from the Mean Value')"
   ]
  },
  {
   "cell_type": "markdown",
   "id": "3585f1b4-3c65-435a-9715-d9aafdf213e7",
   "metadata": {},
   "source": [
    "In figure 7.3.1 and 7.3.2 we see as expected that the western, more developed countries are leading the race for renewable energy compared to the poorer, less-developed regions of Latin America and Sub-Saharan Africa. The European Union has seen the largest increase in total electricity production from renewable energy, with North America trailing not that far behind. Latin America and the Caribbean has only recently, from ca. 2000 started seeing an increase in renewable energy, while Sub-Saharan Africa is trailing far behind all the other regions, and barely have made any progress. Figure 7.3.2 worryingly shows the slowness of these regions to adapt to renewable energy as none of the countries reach the mean value before 2005, highlighting the importance of information-spreading about climate change so more countries can adapt quicker to renewable energy and so that richer regions can help poorer regions adapt. quicker\n",
    "\n",
    "Conclusion:\n",
    "\n",
    "From the figures above, we observe that across regions, the share of total energy production from renewable sources has steadily increased since the 1970s, with the exception of Latin America and the Carribbean. Indeed, the latter shows an increasing trend in energy production from fossil fuels. This is in line with observations in covered in the news (https://dialogochino.net/en/climate-energy/43661-latin-america-continues-expansion-of-fossil-fuels-despite-climate-change/). The trend of increasing use of renewable sources is represented by the converging difference. Notably, the EU has the highest % share of energy production from renewables and the SSA the lowest. In sum, the challenge of equal access to clean and affordable energy stipulated by SDG 7 remains highly challenged."
   ]
  }
 ],
 "metadata": {
  "kernelspec": {
   "display_name": "Python 3 (ipykernel)",
   "language": "python",
   "name": "python3"
  },
  "language_info": {
   "codemirror_mode": {
    "name": "ipython",
    "version": 3
   },
   "file_extension": ".py",
   "mimetype": "text/x-python",
   "name": "python",
   "nbconvert_exporter": "python",
   "pygments_lexer": "ipython3",
   "version": "3.9.7"
  }
 },
 "nbformat": 4,
 "nbformat_minor": 5
}
