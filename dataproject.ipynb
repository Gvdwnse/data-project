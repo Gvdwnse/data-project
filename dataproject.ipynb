{
 "cells": [
  {
   "cell_type": "code",
   "execution_count": 1,
   "id": "cd84d26f-48f0-463e-a856-86eeba79e975",
   "metadata": {},
   "outputs": [],
   "source": [
    "import numpy as np\n",
    "import pandas as pd\n",
    "import datetime\n",
    "import pandas_datareader\n",
    "import matplotlib.pyplot as plt\n",
    "plt.style.use('seaborn-whitegrid')\n",
    "from matplotlib_venn import venn2\n",
    "from pandas_datareader import wb # import WB API"
   ]
  },
  {
   "cell_type": "code",
   "execution_count": 2,
   "id": "189c1547-628a-4558-97c8-e0eed63c75a0",
   "metadata": {},
   "outputs": [
    {
     "name": "stderr",
     "output_type": "stream",
     "text": [
      "/Users/gw/opt/anaconda3/lib/python3.9/site-packages/pandas_datareader/wb.py:592: UserWarning: Non-standard ISO country codes: EUU, NAC, SSA, TLA\n",
      "  warnings.warn(\n"
     ]
    },
    {
     "name": "stdout",
     "output_type": "stream",
     "text": [
      "<class 'pandas.core.frame.DataFrame'>\n",
      "RangeIndex: 164 entries, 0 to 163\n",
      "Data columns (total 3 columns):\n",
      " #   Column   Non-Null Count  Dtype  \n",
      "---  ------   --------------  -----  \n",
      " 0   country  164 non-null    object \n",
      " 1   year     164 non-null    int64  \n",
      " 2   fosl     164 non-null    float64\n",
      "dtypes: float64(1), int64(1), object(1)\n",
      "memory usage: 4.0+ KB\n"
     ]
    }
   ],
   "source": [
    "# load wb data for energy production from fossil fuels 1975-2015\n",
    "wb_fosl = wb.download(indicator='EG.ELC.FOSL.ZS', country=['EUU','NAC','SSA','TLA'], start=1975, end=2015)\n",
    "wb_fosl = wb_fosl.rename(columns = {'EG.ELC.FOSL.ZS':'fosl'})\n",
    "wb_fosl.reset_index(inplace = True)\n",
    "wb_fosl.year = wb_fosl.year.astype(int)\n",
    "wb_fosl.country = wb_fosl.country.astype(str)\n",
    "wb_fosl = wb_fosl.sort_values(['country', 'year'])\n",
    "wb_fosl.dropna() #drop all missing values\n",
    "wb_fosl.reset_index(inplace=True, drop=True)\n",
    "wb_fosl.info()"
   ]
  },
  {
   "cell_type": "code",
   "execution_count": 3,
   "id": "3d09d0b8-2bff-4b20-a1a8-233656bfa6eb",
   "metadata": {},
   "outputs": [],
   "source": [
    "import ipywidgets as widgets\n",
    "def plot_wb(wb_fosl, country): \n",
    "    I = wb_fosl['country'] == country\n",
    "    ax=wb_fosl.loc[I,:].plot(x='year', y='fosl', style='-o', legend=False)\n",
    "    ax.set_ylabel('% of total')\n",
    "    ax.set_title('Energy production from fossil fuels 1975-2015')"
   ]
  },
  {
   "cell_type": "code",
   "execution_count": 4,
   "id": "681d4dc0-c34e-4160-9e69-69c483b6b468",
   "metadata": {},
   "outputs": [
    {
     "data": {
      "application/vnd.jupyter.widget-view+json": {
       "model_id": "a86af9c29b9f4b95bae387461fbec2cc",
       "version_major": 2,
       "version_minor": 0
      },
      "text/plain": [
       "interactive(children=(Dropdown(description='Country', options=('European Union', 'Latin America & the Caribbea…"
      ]
     },
     "metadata": {},
     "output_type": "display_data"
    }
   ],
   "source": [
    "widgets.interact(plot_wb, \n",
    "    wb_fosl = widgets.fixed(wb_fosl),\n",
    "    country = widgets.Dropdown(description='Country', \n",
    "                                    options=wb_fosl.country.unique(), \n",
    "                                    value='European Union')\n",
    ");"
   ]
  },
  {
   "cell_type": "code",
   "execution_count": 5,
   "id": "89b8d30c-9164-4a54-bee2-05da8e14fa69",
   "metadata": {},
   "outputs": [
    {
     "name": "stderr",
     "output_type": "stream",
     "text": [
      "/Users/gw/opt/anaconda3/lib/python3.9/site-packages/pandas_datareader/wb.py:592: UserWarning: Non-standard ISO country codes: EUU, NAC, SSA, TLA\n",
      "  warnings.warn(\n"
     ]
    },
    {
     "name": "stdout",
     "output_type": "stream",
     "text": [
      "<class 'pandas.core.frame.DataFrame'>\n",
      "RangeIndex: 164 entries, 0 to 163\n",
      "Data columns (total 3 columns):\n",
      " #   Column   Non-Null Count  Dtype  \n",
      "---  ------   --------------  -----  \n",
      " 0   country  164 non-null    object \n",
      " 1   year     164 non-null    int64  \n",
      " 2   rnwx     164 non-null    float64\n",
      "dtypes: float64(1), int64(1), object(1)\n",
      "memory usage: 4.0+ KB\n"
     ]
    }
   ],
   "source": [
    "wb_rnwx = wb.download(indicator='EG.ELC.RNWX.ZS', country=['EUU', 'NAC', 'SSA', 'TLA'], start=1975, end=2015)\n",
    "wb_rnwx = wb_rnwx.rename(columns = {'EG.ELC.RNWX.ZS':'rnwx'})\n",
    "wb_rnwx = wb_rnwx.reset_index()\n",
    "wb_rnwx.year = wb_rnwx.year.astype(int)\n",
    "wb_rnwx.country = wb_rnwx.country.astype(str)\n",
    "wb_rnwx = wb_rnwx.sort_values(['country', 'year'])\n",
    "wb_rnwx.dropna()\n",
    "wb_rnwx.reset_index(inplace=True, drop=True)\n",
    "wb_rnwx.info()"
   ]
  },
  {
   "cell_type": "code",
   "execution_count": 6,
   "id": "37dad299-9ada-4c3e-8ef2-e81f032fed8d",
   "metadata": {},
   "outputs": [],
   "source": [
    "def plot_wb(wb_rnwx, country): \n",
    "    I = wb_rnwx['country'] == country\n",
    "    ax = wb_rnwx.loc[I,:].plot(x='year', y='rnwx', style='-o', color='green', legend=True)\n",
    "    ax.set_ylabel('% of total')\n",
    "    ax.set_title('Energy production from renewable sources 1975-2015')"
   ]
  },
  {
   "cell_type": "code",
   "execution_count": 7,
   "id": "beab6160-931f-4150-b341-127af01e6501",
   "metadata": {},
   "outputs": [
    {
     "data": {
      "application/vnd.jupyter.widget-view+json": {
       "model_id": "24a15b8aa0994a59a308cbb5f6efa5d9",
       "version_major": 2,
       "version_minor": 0
      },
      "text/plain": [
       "interactive(children=(Dropdown(description='Country', options=('European Union', 'Latin America & the Caribbea…"
      ]
     },
     "metadata": {},
     "output_type": "display_data"
    }
   ],
   "source": [
    "widgets.interact(plot_wb, \n",
    "    wb_rnwx = widgets.fixed(wb_rnwx),\n",
    "    country = widgets.Dropdown(description='Country', \n",
    "                                    options=wb_rnwx.country.unique(), \n",
    "                                    value='European Union')\n",
    "); "
   ]
  },
  {
   "cell_type": "code",
   "execution_count": 8,
   "id": "5e814fe1-dc8f-467f-8f13-a912e9b18af5",
   "metadata": {},
   "outputs": [
    {
     "data": {
      "image/png": "[encoded data removed]",
      "text/plain": [
       "<Figure size 432x288 with 2 Axes>"
      ]
     },
     "metadata": {},
     "output_type": "display_data"
    }
   ],
   "source": [
    "fig,ax=plt.subplots()\n",
    "ax.plot(wb_rnwx.year, wb_rnwx.rnwx, color='green')\n",
    "ax.set_xlabel(\"year\",fontsize=14)\n",
    "ax2=ax.twinx()\n",
    "ax2.plot(wb_fosl.year, wb_fosl['fosl'], color='red')\n",
    "ax.set_title('Energy production from renewable sources 1975-2015')\n",
    "plt.show()"
   ]
  },
  {
   "cell_type": "code",
   "execution_count": 9,
   "id": "cc8fda0f-09f1-4b00-97c6-1727a2bfe6b7",
   "metadata": {},
   "outputs": [],
   "source": [
    "wb = pd.merge(wb_fosl, wb_rnwx, on=['country', 'year'], how='left')\n",
    "wb.dropna()\n",
    "wb.rename(columns={'fosl':'f'}, inplace=True)\n",
    "wb.rename(columns={'rnwx':'r'}, inplace=True)"
   ]
  },
  {
   "cell_type": "code",
   "execution_count": 10,
   "id": "fe5f3157-4bf1-43a6-b9a7-49b9dfb939b3",
   "metadata": {},
   "outputs": [
    {
     "data": {
      "text/html": [
       "<div>\n",
       "<style scoped>\n",
       "    .dataframe tbody tr th:only-of-type {\n",
       "        vertical-align: middle;\n",
       "    }\n",
       "\n",
       "    .dataframe tbody tr th {\n",
       "        vertical-align: top;\n",
       "    }\n",
       "\n",
       "    .dataframe thead th {\n",
       "        text-align: right;\n",
       "    }\n",
       "</style>\n",
       "<table border=\"1\" class=\"dataframe\">\n",
       "  <thead>\n",
       "    <tr style=\"text-align: right;\">\n",
       "      <th></th>\n",
       "      <th>country</th>\n",
       "      <th>year</th>\n",
       "      <th>f</th>\n",
       "      <th>r</th>\n",
       "    </tr>\n",
       "  </thead>\n",
       "  <tbody>\n",
       "    <tr>\n",
       "      <th>0</th>\n",
       "      <td>European Union</td>\n",
       "      <td>1975</td>\n",
       "      <td>71.327626</td>\n",
       "      <td>0.558944</td>\n",
       "    </tr>\n",
       "    <tr>\n",
       "      <th>1</th>\n",
       "      <td>European Union</td>\n",
       "      <td>1976</td>\n",
       "      <td>74.799558</td>\n",
       "      <td>0.513907</td>\n",
       "    </tr>\n",
       "    <tr>\n",
       "      <th>2</th>\n",
       "      <td>European Union</td>\n",
       "      <td>1977</td>\n",
       "      <td>69.205318</td>\n",
       "      <td>0.519714</td>\n",
       "    </tr>\n",
       "    <tr>\n",
       "      <th>3</th>\n",
       "      <td>European Union</td>\n",
       "      <td>1978</td>\n",
       "      <td>69.726892</td>\n",
       "      <td>0.522394</td>\n",
       "    </tr>\n",
       "    <tr>\n",
       "      <th>4</th>\n",
       "      <td>European Union</td>\n",
       "      <td>1979</td>\n",
       "      <td>68.970388</td>\n",
       "      <td>0.507560</td>\n",
       "    </tr>\n",
       "    <tr>\n",
       "      <th>...</th>\n",
       "      <td>...</td>\n",
       "      <td>...</td>\n",
       "      <td>...</td>\n",
       "      <td>...</td>\n",
       "    </tr>\n",
       "    <tr>\n",
       "      <th>159</th>\n",
       "      <td>Sub-Saharan Africa (excluding high income)</td>\n",
       "      <td>2011</td>\n",
       "      <td>66.277732</td>\n",
       "      <td>0.670913</td>\n",
       "    </tr>\n",
       "    <tr>\n",
       "      <th>160</th>\n",
       "      <td>Sub-Saharan Africa (excluding high income)</td>\n",
       "      <td>2012</td>\n",
       "      <td>66.398879</td>\n",
       "      <td>0.730265</td>\n",
       "    </tr>\n",
       "    <tr>\n",
       "      <th>161</th>\n",
       "      <td>Sub-Saharan Africa (excluding high income)</td>\n",
       "      <td>2013</td>\n",
       "      <td>65.269599</td>\n",
       "      <td>0.856317</td>\n",
       "    </tr>\n",
       "    <tr>\n",
       "      <th>162</th>\n",
       "      <td>Sub-Saharan Africa (excluding high income)</td>\n",
       "      <td>2014</td>\n",
       "      <td>63.986604</td>\n",
       "      <td>1.701720</td>\n",
       "    </tr>\n",
       "    <tr>\n",
       "      <th>163</th>\n",
       "      <td>Sub-Saharan Africa (excluding high income)</td>\n",
       "      <td>2015</td>\n",
       "      <td>64.169845</td>\n",
       "      <td>2.389288</td>\n",
       "    </tr>\n",
       "  </tbody>\n",
       "</table>\n",
       "<p>164 rows × 4 columns</p>\n",
       "</div>"
      ],
      "text/plain": [
       "                                        country  year          f         r\n",
       "0                                European Union  1975  71.327626  0.558944\n",
       "1                                European Union  1976  74.799558  0.513907\n",
       "2                                European Union  1977  69.205318  0.519714\n",
       "3                                European Union  1978  69.726892  0.522394\n",
       "4                                European Union  1979  68.970388  0.507560\n",
       "..                                          ...   ...        ...       ...\n",
       "159  Sub-Saharan Africa (excluding high income)  2011  66.277732  0.670913\n",
       "160  Sub-Saharan Africa (excluding high income)  2012  66.398879  0.730265\n",
       "161  Sub-Saharan Africa (excluding high income)  2013  65.269599  0.856317\n",
       "162  Sub-Saharan Africa (excluding high income)  2014  63.986604  1.701720\n",
       "163  Sub-Saharan Africa (excluding high income)  2015  64.169845  2.389288\n",
       "\n",
       "[164 rows x 4 columns]"
      ]
     },
     "execution_count": 10,
     "metadata": {},
     "output_type": "execute_result"
    }
   ],
   "source": [
    "wb"
   ]
  },
  {
   "cell_type": "code",
   "execution_count": 11,
   "id": "ddec67cc-c555-4909-9fda-88d78e84d700",
   "metadata": {},
   "outputs": [
    {
     "data": {
      "text/html": [
       "<div>\n",
       "<style scoped>\n",
       "    .dataframe tbody tr th:only-of-type {\n",
       "        vertical-align: middle;\n",
       "    }\n",
       "\n",
       "    .dataframe tbody tr th {\n",
       "        vertical-align: top;\n",
       "    }\n",
       "\n",
       "    .dataframe thead th {\n",
       "        text-align: right;\n",
       "    }\n",
       "</style>\n",
       "<table border=\"1\" class=\"dataframe\">\n",
       "  <thead>\n",
       "    <tr style=\"text-align: right;\">\n",
       "      <th></th>\n",
       "      <th>country</th>\n",
       "      <th>year</th>\n",
       "      <th>f</th>\n",
       "      <th>r</th>\n",
       "      <th>prod_diff</th>\n",
       "    </tr>\n",
       "  </thead>\n",
       "  <tbody>\n",
       "    <tr>\n",
       "      <th>0</th>\n",
       "      <td>European Union</td>\n",
       "      <td>1975</td>\n",
       "      <td>71.327626</td>\n",
       "      <td>0.558944</td>\n",
       "      <td>70.768682</td>\n",
       "    </tr>\n",
       "    <tr>\n",
       "      <th>1</th>\n",
       "      <td>European Union</td>\n",
       "      <td>1976</td>\n",
       "      <td>74.799558</td>\n",
       "      <td>0.513907</td>\n",
       "      <td>74.285651</td>\n",
       "    </tr>\n",
       "    <tr>\n",
       "      <th>2</th>\n",
       "      <td>European Union</td>\n",
       "      <td>1977</td>\n",
       "      <td>69.205318</td>\n",
       "      <td>0.519714</td>\n",
       "      <td>68.685604</td>\n",
       "    </tr>\n",
       "    <tr>\n",
       "      <th>3</th>\n",
       "      <td>European Union</td>\n",
       "      <td>1978</td>\n",
       "      <td>69.726892</td>\n",
       "      <td>0.522394</td>\n",
       "      <td>69.204498</td>\n",
       "    </tr>\n",
       "    <tr>\n",
       "      <th>4</th>\n",
       "      <td>European Union</td>\n",
       "      <td>1979</td>\n",
       "      <td>68.970388</td>\n",
       "      <td>0.507560</td>\n",
       "      <td>68.462828</td>\n",
       "    </tr>\n",
       "    <tr>\n",
       "      <th>...</th>\n",
       "      <td>...</td>\n",
       "      <td>...</td>\n",
       "      <td>...</td>\n",
       "      <td>...</td>\n",
       "      <td>...</td>\n",
       "    </tr>\n",
       "    <tr>\n",
       "      <th>159</th>\n",
       "      <td>Sub-Saharan Africa (excluding high income)</td>\n",
       "      <td>2011</td>\n",
       "      <td>66.277732</td>\n",
       "      <td>0.670913</td>\n",
       "      <td>65.606819</td>\n",
       "    </tr>\n",
       "    <tr>\n",
       "      <th>160</th>\n",
       "      <td>Sub-Saharan Africa (excluding high income)</td>\n",
       "      <td>2012</td>\n",
       "      <td>66.398879</td>\n",
       "      <td>0.730265</td>\n",
       "      <td>65.668614</td>\n",
       "    </tr>\n",
       "    <tr>\n",
       "      <th>161</th>\n",
       "      <td>Sub-Saharan Africa (excluding high income)</td>\n",
       "      <td>2013</td>\n",
       "      <td>65.269599</td>\n",
       "      <td>0.856317</td>\n",
       "      <td>64.413281</td>\n",
       "    </tr>\n",
       "    <tr>\n",
       "      <th>162</th>\n",
       "      <td>Sub-Saharan Africa (excluding high income)</td>\n",
       "      <td>2014</td>\n",
       "      <td>63.986604</td>\n",
       "      <td>1.701720</td>\n",
       "      <td>62.284884</td>\n",
       "    </tr>\n",
       "    <tr>\n",
       "      <th>163</th>\n",
       "      <td>Sub-Saharan Africa (excluding high income)</td>\n",
       "      <td>2015</td>\n",
       "      <td>64.169845</td>\n",
       "      <td>2.389288</td>\n",
       "      <td>61.780557</td>\n",
       "    </tr>\n",
       "  </tbody>\n",
       "</table>\n",
       "<p>164 rows × 5 columns</p>\n",
       "</div>"
      ],
      "text/plain": [
       "                                        country  year          f         r  \\\n",
       "0                                European Union  1975  71.327626  0.558944   \n",
       "1                                European Union  1976  74.799558  0.513907   \n",
       "2                                European Union  1977  69.205318  0.519714   \n",
       "3                                European Union  1978  69.726892  0.522394   \n",
       "4                                European Union  1979  68.970388  0.507560   \n",
       "..                                          ...   ...        ...       ...   \n",
       "159  Sub-Saharan Africa (excluding high income)  2011  66.277732  0.670913   \n",
       "160  Sub-Saharan Africa (excluding high income)  2012  66.398879  0.730265   \n",
       "161  Sub-Saharan Africa (excluding high income)  2013  65.269599  0.856317   \n",
       "162  Sub-Saharan Africa (excluding high income)  2014  63.986604  1.701720   \n",
       "163  Sub-Saharan Africa (excluding high income)  2015  64.169845  2.389288   \n",
       "\n",
       "     prod_diff  \n",
       "0    70.768682  \n",
       "1    74.285651  \n",
       "2    68.685604  \n",
       "3    69.204498  \n",
       "4    68.462828  \n",
       "..         ...  \n",
       "159  65.606819  \n",
       "160  65.668614  \n",
       "161  64.413281  \n",
       "162  62.284884  \n",
       "163  61.780557  \n",
       "\n",
       "[164 rows x 5 columns]"
      ]
     },
     "execution_count": 11,
     "metadata": {},
     "output_type": "execute_result"
    }
   ],
   "source": [
    "wb['prod_diff'] = wb.f - wb.r\n",
    "wb"
   ]
  },
  {
   "cell_type": "code",
   "execution_count": 17,
   "id": "1b4a171b-470d-4116-8d7a-e75ebabf853d",
   "metadata": {},
   "outputs": [],
   "source": [
    "import ipywidgets as widgets\n",
    "def plot_wb(wb, country):\n",
    "    I = wb['country'] == country\n",
    "    ax = wb.loc[I,:].plot(x='year', y='prod_diff', style='-o', legend=False)\n",
    "    ax.set_ylabel('%-point difference of total energy production')\n",
    "    ax.set_title('Diff fossil minus renewable sources 1975-2015')"
   ]
  },
  {
   "cell_type": "code",
   "execution_count": 18,
   "id": "860bbc41-5388-4fe0-a34f-9c6d539e1b8b",
   "metadata": {},
   "outputs": [
    {
     "data": {
      "application/vnd.jupyter.widget-view+json": {
       "model_id": "230d6ed9764c49acbe01eb3c3b88cc2d",
       "version_major": 2,
       "version_minor": 0
      },
      "text/plain": [
       "interactive(children=(Dropdown(description='Country', options=('European Union', 'Latin America & the Caribbea…"
      ]
     },
     "metadata": {},
     "output_type": "display_data"
    }
   ],
   "source": [
    "widgets.interact(plot_wb, \n",
    "    wb = widgets.fixed(wb),\n",
    "    country = widgets.Dropdown(description='Country', \n",
    "                                    options=wb.country.unique(), \n",
    "                                    value='European Union')\n",
    "); "
   ]
  },
  {
   "cell_type": "code",
   "execution_count": 20,
   "id": "41d9c926-b98e-49de-b185-066e50d151c5",
   "metadata": {},
   "outputs": [],
   "source": [
    "import ipywidgets as widgets\n",
    "def plot_wb(wb_fosl, country): \n",
    "    I = wb_fosl['country'] == country\n",
    "    ax=wb_fosl.loc[I,:].plot(x='year', y='fosl', style='-o', legend=False)\n",
    "    ax.set_ylabel('% of total')\n",
    "    ax.set_title('Energy production from fossil fuels 1975-2015')"
   ]
  },
  {
   "cell_type": "code",
   "execution_count": null,
   "id": "f07efad7",
   "metadata": {},
   "outputs": [],
   "source": [
    "# From the figure above, we observe that across regions, the share of total energy production from renewable sources has steadily increased since the 1970s, with the exception of Latin America and the Carribbean. Indeed, the latter shows an increasing trend in energy production from fossil fuels. This is in line with observations in covered in the news (https://dialogochino.net/en/climate-energy/43661-latin-america-continues-expansion-of-fossil-fuels-despite-climate-change/). The trend of increasing use of renewable sources is represented by the converging difference. Notably, the EU has the highest % share of energy production from renewables and the SSA the lowest. In sum, the challenge of equal access to clean and affordable energy stipulated by SDG 7 remains highly challenged. "
   ]
  }
 ],
 "metadata": {
  "kernelspec": {
   "display_name": "Python 3 (ipykernel)",
   "language": "python",
   "name": "python3"
  },
  "language_info": {
   "codemirror_mode": {
    "name": "ipython",
    "version": 3
   },
   "file_extension": ".py",
   "mimetype": "text/x-python",
   "name": "python",
   "nbconvert_exporter": "python",
   "pygments_lexer": "ipython3",
   "version": "3.9.7"
  }
 },
 "nbformat": 4,
 "nbformat_minor": 5
}
